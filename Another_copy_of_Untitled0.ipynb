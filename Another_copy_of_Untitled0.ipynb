{
  "nbformat": 4,
  "nbformat_minor": 0,
  "metadata": {
    "colab": {
      "provenance": [],
      "gpuType": "T4",
      "include_colab_link": true
    },
    "kernelspec": {
      "name": "python3",
      "display_name": "Python 3"
    },
    "language_info": {
      "name": "python"
    },
    "accelerator": "GPU"
  },
  "cells": [
    {
      "cell_type": "markdown",
      "metadata": {
        "id": "view-in-github",
        "colab_type": "text"
      },
      "source": [
        "<a href=\"https://colab.research.google.com/github/lucario6607/lc0fish/blob/master/Another_copy_of_Untitled0.ipynb\" target=\"_parent\"><img src=\"https://colab.research.google.com/assets/colab-badge.svg\" alt=\"Open In Colab\"/></a>"
      ]
    },
    {
      "cell_type": "code",
      "execution_count": 1,
      "metadata": {
        "colab": {
          "base_uri": "https://localhost:8080/"
        },
        "id": "x9QtJ1n148Hn",
        "outputId": "b4678ffb-1e94-49f2-ed3d-7fb890989c89"
      },
      "outputs": [
        {
          "output_type": "stream",
          "name": "stdout",
          "text": [
            "Reading package lists... Done\n",
            "Building dependency tree... Done\n",
            "Reading state information... Done\n",
            "The following NEW packages will be installed:\n",
            "  ninja-build\n",
            "0 upgraded, 1 newly installed, 0 to remove and 49 not upgraded.\n",
            "Need to get 111 kB of archives.\n",
            "After this operation, 358 kB of additional disk space will be used.\n",
            "Get:1 http://archive.ubuntu.com/ubuntu jammy/universe amd64 ninja-build amd64 1.10.1-1 [111 kB]\n",
            "Fetched 111 kB in 0s (308 kB/s)\n",
            "debconf: unable to initialize frontend: Dialog\n",
            "debconf: (No usable dialog-like program is installed, so the dialog based frontend cannot be used. at /usr/share/perl5/Debconf/FrontEnd/Dialog.pm line 78, <> line 1.)\n",
            "debconf: falling back to frontend: Readline\n",
            "debconf: unable to initialize frontend: Readline\n",
            "debconf: (This frontend requires a controlling tty.)\n",
            "debconf: falling back to frontend: Teletype\n",
            "dpkg-preconfigure: unable to re-open stdin: \n",
            "Selecting previously unselected package ninja-build.\n",
            "(Reading database ... 123629 files and directories currently installed.)\n",
            "Preparing to unpack .../ninja-build_1.10.1-1_amd64.deb ...\n",
            "Unpacking ninja-build (1.10.1-1) ...\n",
            "Setting up ninja-build (1.10.1-1) ...\n",
            "Processing triggers for man-db (2.10.2-1) ...\n",
            "Collecting meson\n",
            "  Downloading meson-1.6.0-py3-none-any.whl.metadata (1.8 kB)\n",
            "Downloading meson-1.6.0-py3-none-any.whl (973 kB)\n",
            "\u001b[2K   \u001b[90m━━━━━━━━━━━━━━━━━━━━━━━━━━━━━━━━━━━━━━━━\u001b[0m \u001b[32m973.9/973.9 kB\u001b[0m \u001b[31m14.8 MB/s\u001b[0m eta \u001b[36m0:00:00\u001b[0m\n",
            "\u001b[?25hInstalling collected packages: meson\n",
            "Successfully installed meson-1.6.0\n",
            "Cloning into 'lc0'...\n",
            "remote: Enumerating objects: 11636, done.\u001b[K\n",
            "remote: Counting objects: 100% (276/276), done.\u001b[K\n",
            "remote: Compressing objects: 100% (196/196), done.\u001b[K\n",
            "remote: Total 11636 (delta 168), reused 155 (delta 80), pack-reused 11360 (from 1)\u001b[K\n",
            "Receiving objects: 100% (11636/11636), 38.98 MiB | 14.91 MiB/s, done.\n",
            "Resolving deltas: 100% (8333/8333), done.\n",
            "Submodule 'libs/lczero-common' (https://github.com/LeelaChessZero/lczero-common.git) registered for path 'libs/lczero-common'\n",
            "Cloning into '/content/lc0/libs/lczero-common'...\n",
            "remote: Enumerating objects: 173, done.        \n",
            "remote: Counting objects: 100% (33/33), done.        \n",
            "remote: Compressing objects: 100% (20/20), done.        \n",
            "remote: Total 173 (delta 7), reused 28 (delta 5), pack-reused 140 (from 1)        \n",
            "Receiving objects: 100% (173/173), 36.06 KiB | 820.00 KiB/s, done.\n",
            "Resolving deltas: 100% (51/51), done.\n",
            "Submodule path 'libs/lczero-common': checked out '55e1b382efadd57903e37f2a2e29caef3ea85799'\n",
            "\u001b[1mThe Meson build system\u001b[0m\n",
            "Version: 1.6.0\n",
            "Source dir: \u001b[1m/content/lc0\u001b[0m\n",
            "Build dir: \u001b[1m/content/lc0/build\u001b[0m\n",
            "Build type: \u001b[1mnative build\u001b[0m\n",
            "Project name: \u001b[1mlc0\u001b[0m\n",
            "Project version: \u001b[1mundefined\u001b[0m\n",
            "C++ compiler for the host machine: \u001b[1mc++\u001b[0m (gcc 11.4.0 \"c++ (Ubuntu 11.4.0-1ubuntu1~22.04) 11.4.0\")\n",
            "C++ linker for the host machine: \u001b[1mc++\u001b[0m ld.bfd 2.38\n",
            "Host machine cpu family: \u001b[1mx86_64\u001b[0m\n",
            "Host machine cpu: \u001b[1mx86_64\u001b[0m\n",
            "Has header \"\u001b[1moptional\u001b[0m\" : \u001b[1;32mYES\u001b[0m \n",
            "Has header \"\u001b[1mstring_view\u001b[0m\" : \u001b[1;32mYES\u001b[0m \n",
            "Has header \"\u001b[1mcharconv\u001b[0m\" : \u001b[1;32mYES\u001b[0m \n",
            "Compiler for C++ supports arguments -march=native: \u001b[1;32mYES\u001b[0m \n",
            "Program \u001b[1mscripts/compile_proto.py\u001b[0m found: \u001b[1;32mYES\u001b[0m (/content/lc0/scripts/compile_proto.py)\n",
            "Program \u001b[1mgit\u001b[0m found: \u001b[1;32mYES\u001b[0m (/usr/bin/git)\n",
            "Configuring \u001b[1mbuild_id.h\u001b[0m using configuration\n",
            "Run-time dependency \u001b[1mthreads\u001b[0m found: \u001b[1;32mYES\u001b[0m\n",
            "Library \u001b[1mdl\u001b[0m found: \u001b[1;32mYES\u001b[0m\n",
            "Found pkg-config: \u001b[1;32mYES\u001b[0m \u001b[1m(/usr/bin/pkg-config)\u001b[0m \u001b[1;34m1.8.0\u001b[0m\n",
            "Found CMake: \u001b[1m/usr/local/bin/cmake\u001b[0m (3.30.5)\n",
            "Run-time dependency \u001b[1mtensorflow_cc\u001b[0m found: \u001b[1;31mNO\u001b[0m (tried pkgconfig and cmake)\n",
            "Run-time dependency \u001b[1maccelerate\u001b[0m found: \u001b[1;31mNO\u001b[0m (tried pkgconfig and cmake)\n",
            "Library \u001b[1mmkl_rt\u001b[0m found: \u001b[1;32mYES\u001b[0m\n",
            "Library \u001b[1mdnnl\u001b[0m found: \u001b[1;31mNO\u001b[0m\n",
            "Library \u001b[1mopenblas.dll\u001b[0m found: \u001b[1;31mNO\u001b[0m\n",
            "Library \u001b[1mopenblas\u001b[0m found: \u001b[1;32mYES\u001b[0m\n",
            "Library \u001b[1mOpenCL\u001b[0m found: \u001b[1;32mYES\u001b[0m\n",
            "Run-time dependency \u001b[1mopencl\u001b[0m found: \u001b[1;31mNO\u001b[0m \n",
            "Has header \"\u001b[1mCL/opencl.h\u001b[0m\" : \u001b[1;32mYES\u001b[0m \n",
            "Library \u001b[1mcublas\u001b[0m found: \u001b[1;32mYES\u001b[0m\n",
            "Library \u001b[1mcudnn\u001b[0m found: \u001b[1;32mYES\u001b[0m\n",
            "Library \u001b[1mcudart\u001b[0m found: \u001b[1;32mYES\u001b[0m\n",
            "Program \u001b[1mnvcc\u001b[0m found: \u001b[1;32mYES\u001b[0m (/usr/local/cuda/bin/nvcc)\n",
            "Run-time dependency \u001b[1mappleframeworks\u001b[0m found: \u001b[1;31mNO\u001b[0m (tried framework)\n",
            "Run-time dependency \u001b[1mzlib\u001b[0m found: \u001b[1;32mYES\u001b[0m \u001b[36m1.2.11\u001b[0m\n",
            "\u001b[1;33mWARNING:\u001b[0m find_library('libatomic') starting in \"lib\" only works by accident and is not portable\n",
            "Library \u001b[1mlibatomic\u001b[0m found: \u001b[1;32mYES\u001b[0m\n",
            "Build targets in project: \u001b[1m3\u001b[0m\n",
            "\n",
            "lc0 \u001b[36mundefined\u001b[0m\n",
            "\n",
            "  \u001b[1mUser defined options\u001b[0m\n",
            "    b_lto    : true\n",
            "    blas     : false\n",
            "    buildtype: release\n",
            "    cudnn    : false\n",
            "    gtest    : false\n",
            "    opencl   : false\n",
            "\n",
            "Found ninja-1.10.1 at /usr/bin/ninja\n",
            "\u001b[1;33mWARNING:\u001b[0m Running the setup command as `meson [options]` instead of `meson setup [options]` is ambiguous and deprecated.\n",
            "[72/72] Linking target lc0\u001b[K\n",
            "lto-wrapper: warning: using serial compilation of 38 LTRANS jobs\n"
          ]
        }
      ],
      "source": [
        "!sudo apt-get install ninja-build\n",
        "\n",
        "!pip3 install meson\n",
        "\n",
        "!git clone --recurse-submodules -b release/0.31 https://github.com/LeelaChessZero/lc0.git\n",
        "\n",
        "!cd lc0 && rm -rf build\n",
        "\n",
        "!cd lc0 && meson build --buildtype release -Db_lto=true -Dgtest=false -Dblas=false -Dopencl=false -Dcudnn=false\n",
        "\n",
        "!cd lc0/build && ninja"
      ]
    },
    {
      "cell_type": "code",
      "source": [
        "!wget https://github.com/CallOn84/LeelaNets/raw/refs/heads/main/Nets/Elite%20Leela/EliteLeela.pb.gz"
      ],
      "metadata": {
        "colab": {
          "base_uri": "https://localhost:8080/"
        },
        "id": "3TDfV3uC6pOo",
        "outputId": "9ce0a94a-0d06-47c1-a768-4acc009b9688"
      },
      "execution_count": 2,
      "outputs": [
        {
          "output_type": "stream",
          "name": "stdout",
          "text": [
            "--2024-11-19 02:07:34--  https://github.com/CallOn84/LeelaNets/raw/refs/heads/main/Nets/Elite%20Leela/EliteLeela.pb.gz\n",
            "Resolving github.com (github.com)... 140.82.112.3\n",
            "Connecting to github.com (github.com)|140.82.112.3|:443... connected.\n",
            "HTTP request sent, awaiting response... 302 Found\n",
            "Location: https://raw.githubusercontent.com/CallOn84/LeelaNets/refs/heads/main/Nets/Elite%20Leela/EliteLeela.pb.gz [following]\n",
            "--2024-11-19 02:07:35--  https://raw.githubusercontent.com/CallOn84/LeelaNets/refs/heads/main/Nets/Elite%20Leela/EliteLeela.pb.gz\n",
            "Resolving raw.githubusercontent.com (raw.githubusercontent.com)... 185.199.109.133, 185.199.110.133, 185.199.111.133, ...\n",
            "Connecting to raw.githubusercontent.com (raw.githubusercontent.com)|185.199.109.133|:443... connected.\n",
            "HTTP request sent, awaiting response... 200 OK\n",
            "Length: 6551855 (6.2M) [application/octet-stream]\n",
            "Saving to: ‘EliteLeela.pb.gz’\n",
            "\n",
            "EliteLeela.pb.gz    100%[===================>]   6.25M  --.-KB/s    in 0.06s   \n",
            "\n",
            "2024-11-19 02:07:35 (98.1 MB/s) - ‘EliteLeela.pb.gz’ saved [6551855/6551855]\n",
            "\n"
          ]
        }
      ]
    },
    {
      "cell_type": "code",
      "source": [
        "pip install chess"
      ],
      "metadata": {
        "colab": {
          "base_uri": "https://localhost:8080/"
        },
        "id": "ZANobzbZ6yuO",
        "outputId": "f0408fea-4573-4199-a093-08a2a84b782d"
      },
      "execution_count": 3,
      "outputs": [
        {
          "output_type": "stream",
          "name": "stdout",
          "text": [
            "Collecting chess\n",
            "  Downloading chess-1.11.1.tar.gz (156 kB)\n",
            "\u001b[?25l     \u001b[90m━━━━━━━━━━━━━━━━━━━━━━━━━━━━━━━━━━━━━━━━\u001b[0m \u001b[32m0.0/156.5 kB\u001b[0m \u001b[31m?\u001b[0m eta \u001b[36m-:--:--\u001b[0m\r\u001b[2K     \u001b[90m━━━━━━━━━━━━━━━━━━━━━━━━━━━━━━━━━━━━━━━━\u001b[0m \u001b[32m156.5/156.5 kB\u001b[0m \u001b[31m5.7 MB/s\u001b[0m eta \u001b[36m0:00:00\u001b[0m\n",
            "\u001b[?25h  Preparing metadata (setup.py) ... \u001b[?25l\u001b[?25hdone\n",
            "Building wheels for collected packages: chess\n",
            "  Building wheel for chess (setup.py) ... \u001b[?25l\u001b[?25hdone\n",
            "  Created wheel for chess: filename=chess-1.11.1-py3-none-any.whl size=148497 sha256=21ec429d59954c84e737ae7a3cf9ceb706c2f8e6e802b1e243af1f1408de5350\n",
            "  Stored in directory: /root/.cache/pip/wheels/2e/2d/23/1bfc95db984ed3ecbf6764167dc7526d0ab521cf9a9852544e\n",
            "Successfully built chess\n",
            "Installing collected packages: chess\n",
            "Successfully installed chess-1.11.1\n"
          ]
        }
      ]
    },
    {
      "cell_type": "code",
      "source": [
        "!./lc0/build/lc0 selfplay --training --openings-pgn=rook.pgn --games=250 --white.weights=lko_v2c.pb --black.weights=EliteLeela.pb.gz --white.visits=800 --black.visits=500 --temp-value-cutoff=0.8 --temp-endgame=0.05 --temperature=0.8 --tempdecay-moves=8"
      ],
      "metadata": {
        "colab": {
          "base_uri": "https://localhost:8080/"
        },
        "id": "Cr_PRx6s7QjR",
        "outputId": "39206787-bfed-4fad-cec5-237641d162f5"
      },
      "execution_count": null,
      "outputs": [
        {
          "output_type": "stream",
          "name": "stdout",
          "text": [
            "\u001b[1m\u001b[31m       _\n",
            "|   _ | |\n",
            "|_ |_ |_|\u001b[0m v0.31.2 built Nov 19 2024\n",
            "id name Lc0 v0.31.2\n",
            "id author The LCZero Authors.\n",
            "Loading weights file from: lko_v2c.pb\n",
            "Creating backend [multiplexing]...\n",
            "Creating backend [cuda-auto]...\n",
            "Switching to [cuda-fp16]...\n",
            "CUDA Runtime version: 12.2.0\n",
            "Latest version of CUDA supported by the driver: 12.2.0\n",
            "GPU: Tesla T4\n",
            "GPU memory: 14.7481 Gb\n",
            "GPU clock frequency: 1590 MHz\n",
            "GPU compute capability: 7.5\n",
            "L2 cache capacity: 4194304\n",
            "Loading weights file from: EliteLeela.pb.gz\n",
            "Creating backend [multiplexing]...\n",
            "Creating backend [cuda-auto]...\n",
            "Switching to [cuda-fp16]...\n",
            "CUDA Runtime version: 12.2.0\n",
            "Latest version of CUDA supported by the driver: 12.2.0\n",
            "GPU: Tesla T4\n",
            "GPU memory: 14.7481 Gb\n",
            "GPU clock frequency: 1590 MHz\n",
            "GPU compute capability: 7.5\n",
            "L2 cache capacity: 4194304\n",
            "gameready trainingfile /root/.cache/lc0/data-hryarflvruln/game_000004.gz gameid 4 play_start_ply 0 player1 white result blackwon moves c2c4 c7c6 g2g4 g7g6 d1a4 d8b6 c4c5 b6c5 b1c3 d7d5 e2e3 c5d6 g1h3 b8a6 f2f4 c8g4 f1a6 b7a6 h3f2 g4d7 e3e4 c6c5 a4b3 d5d4 c3e2 f8g7 d2d3 e7e5 f4f5 g8e7 h1g1 g7f6 e2g3 f6h4 b3c4 a8c8 f2g4 g6f5 g4h6 d7e6 c4a4 d6c6 a4c6 c8c6 e4f5 e7f5 h6f5 e6f5 e1e2 h4g3 g1g3 c6g6 g3f3 f5g4 e2f2 g4f3 f2f3 f7f5 f3f2 e5e4 c1f4 h8g8 f4g3 g6g3 h2g3 e4d3 f2f3 c5c4 f3f4 d3d2 f4e5 d2d1q e5e6 d1e1 e6d5 d4d3 d5c4 d3d2 c4c5 d2d1q c5c6 d1d7 c6c5 e1e5 c5b4 d7b5 b4a3 e5b2 from_fen rnbqkbnr/pppppppp/8/8/8/8/PPPPPPPP/1NBQKBNR w Kkq - 0 1\n",
            "tournamentstatus P1: +0 -1 =0 LOS: 15.87% P1-W: +0 -1 =0 P1-B: +0 -0 =0 npm 661.556818 nodes 58217 moves 88\n",
            "gameready trainingfile /root/.cache/lc0/data-hryarflvruln/game_000005.gz gameid 5 play_start_ply 0 player1 black result blackwon moves b1c3 d7d5 e2e4 d5e4 f1e2 g8f6 e2b5 c7c6 b5e2 e7e5 e2f1 f8c5 h2h4 b8a6 h4h5 h7h6 h1h4 c8f5 g2g4 f5h7 f1a6 b7a6 d1e2 e8g8 h4h2 f6d5 c3e4 d5f4 e2c4 c5d4 d2d3 h7e4 d3e4 d8d6 g1f3 a8d8 e1f1 d4b6 c1f4 e5f4 f1g2 f8e8 h2h1 d6d7 h1h4 d7e6 c4e6 e8e6 g4g5 e6e4 g5h6 g7h6 h4g4 g8f8 f3g1 d8d2 g1h3 b6c7 g2f3 e4c4 h3f4 c4f4 g4f4 c7f4 f3f4 d2f2 f4e3 f2c2 e3f3 c2b2 f3e4 b2a2 e4e5 f8e7 e5d4 a2e2 d4c5 e2e5 c5c6 e5h5 c6b7 h5f5 b7a6 h6h5 a6a7 h5h4 a7b6 h4h3 b6b7 h3h2 b7a6 h2h1q a6b6 h1c1 b6b7 f5f2 b7b8 f2b2 b8a8 c1a1 from_fen rnbqkbnr/pppppppp/8/8/8/8/PPPPPPPP/1NBQKBNR w Kkq - 0 1\n",
            "tournamentstatus P1: +1 -1 =0 Win: 50.00% Elo: -0.00 LOS: 50.00% P1-W: +0 -1 =0 P1-B: +1 -0 =0 npm 661.037234 nodes 124275 moves 188\n",
            "gameready trainingfile /root/.cache/lc0/data-hryarflvruln/game_000006.gz gameid 6 play_start_ply 0 player1 white result blackwon moves b1c3 d7d6 f2f4 c8d7 b2b4 h7h5 e1f2 d7c8 c3b1 a7a6 d1e1 g8h6 d2d4 a6a5 b1d2 g7g5 e2e4 h6g4 f2e2 g5f4 b4b5 e7e5 g1f3 b8d7 d2c4 e5d4 c1f4 d7e5 e2d1 c8e6 h2h3 e5f3 g2f3 d8f6 e1g3 h5h4 g3g2 f6f4 f3g4 f8h6 c4d2 f4e3 f1d3 e3d2 g2d2 h6d2 d1d2 e6a2 h1a1 a2e6 a1a4 e8e7 d3e2 c7c5 b5c6 b7c6 d2d1 c6c5 d1d2 h8b8 e2b5 b8b5 a4a1 a5a4 a1a3 a8a7 d2c1 c5c4 c1d1 c4c3 d1e2 e6d7 e2d3 b5b4 a3c3 d4c3 d3c3 b4b5 c3d4 a4a3 d4c3 a3a2 c3d3 a2a1q d3e2 a1c3 e2f2 b5b2 f2g2 b2c2 g2f1 a7a1 from_fen rnbqkbnr/pppppppp/8/8/8/8/PPPPPPPP/1NBQKBNR w Kkq - 0 1\n",
            "tournamentstatus P1: +1 -2 =0 Win: 33.33% Elo: -120.41 LOS: 28.19% P1-W: +0 -2 =0 P1-B: +1 -0 =0 npm 660.303571 nodes 184885 moves 280\n",
            "gameready trainingfile /root/.cache/lc0/data-hryarflvruln/game_000007.gz gameid 7 play_start_ply 0 player1 black result blackwon moves e2e4 g8h6 d1f3 a7a6 g1h3 h8g8 f1c4 a8a7 c4d5 g7g5 f3e3 b7b6 c2c3 g8g7 e3d4 a6a5 a2a4 h6g4 h3g1 h7h6 d4d3 g7g6 d3c2 e7e5 h2h4 c7c6 d5c4 d7d5 e4d5 c6d5 c4b5 c8d7 f2f3 g4f6 h4g5 h6g5 c2b3 d7b5 b3b5 d8d7 b5b6 b8c6 g1e2 a7b7 b6a6 b7b8 d2d4 e5d4 c3d4 c6b4 a6a5 b4d3 e1f1 d3c1 e2c1 f8b4 a5a6 e8f8 c1d3 d7f5 f1g1 g5g4 h1h8 f6g8 a6a7 b8e8 d3e5 f5b1 g1h2 g4g3 h2h3 b1h1 from_fen rnbqkbnr/pppppppp/8/8/8/8/PPPPPPPP/1NBQKBNR w Kkq - 0 1\n",
            "tournamentstatus P1: +2 -2 =0 Win: 50.00% Elo: -0.00 LOS: 50.00% P1-W: +0 -2 =0 P1-B: +2 -0 =0 npm 659.840909 nodes 232264 moves 352\n",
            "gameready trainingfile /root/.cache/lc0/data-hryarflvruln/game_000000.gz gameid 0 play_start_ply 0 player1 white result blackwon moves e2e4 h7h5 b1a3 b8a6 d1e2 b7b6 e1d1 g7g5 e2e1 g8h6 f2f3 a6c5 f1c4 h8g8 c2c3 c8b7 d2d4 d7d5 c4b5 c7c6 b5f1 d5e4 h2h4 c5d3 f1d3 e4d3 h4g5 h6f5 g1h3 d8d7 h3f4 c6c5 d4c5 e8c8 c5b6 a7b6 f4h5 d3d2 c1d2 g8g5 h5f4 e7e5 a3c4 d7b5 f4d5 d8d5 h1h8 b5c4 h8f8 c8d7 f8f7 d7e6 f7f5 g5f5 b2b3 c4d3 c3c4 d5d7 d1c1 b7f3 g2f3 f5f3 d2a5 f3f1 c1b2 f1e1 a5e1 d3e2 b2a3 d7a7 a3b4 e2e1 b4b5 e1a5 b5c6 a5c5 from_fen rnbqkbnr/pppppppp/8/8/8/8/PPPPPPPP/1NBQKBNR w Kkq - 0 1\n",
            "tournamentstatus P1: +2 -3 =0 Win: 40.00% Elo: -70.44 LOS: 32.74% P1-W: +0 -3 =0 P1-B: +2 -0 =0 npm 659.796729 nodes 282393 moves 428\n",
            "gameready trainingfile /root/.cache/lc0/data-hryarflvruln/game_000003.gz gameid 3 play_start_ply 0 player1 black result blackwon moves c2c4 c7c6 g2g4 d8a5 f1h3 f7f5 f2f3 b7b5 f3f4 f5g4 h3g4 g8f6 g4h3 b8a6 b1a3 a6c5 f4f5 e7e5 f5e6 c5e6 g1f3 f8a3 b2a3 b5c4 h1g1 d7d5 c1b2 e8g8 d1a1 a5d8 b2e5 e6c5 h3c8 a8c8 f3h4 c5e6 h4f5 g8h8 e1d1 d5d4 f5d4 e6d4 a1d4 d8d4 e5d4 c8d8 d4c3 f8f7 g1g2 f6e4 d1c2 h8g8 c3b4 c6c5 b4a5 d8d5 g2g4 f7e7 g4g2 h7h5 d2d3 c4d3 e2d3 e4f6 h2h3 c5c4 d3c4 d5a5 h3h4 e7e4 c2b3 e4h4 g2e2 a5c5 e2c2 h4c4 c2c4 c5c4 b3c4 h5h4 c4d3 h4h3 d3d2 h3h2 d2c3 h2h1q c3d3 h1d5 d3c3 d5a2 c3b4 a2b2 b4a4 f6d5 a4a5 b2b6 a5a4 d5c3 from_fen rnbqkbnr/pppppppp/8/8/8/8/PPPPPPPP/1NBQKBNR w Kkq - 0 1\n",
            "tournamentstatus P1: +3 -3 =0 Win: 50.00% Elo: -0.00 LOS: 50.00% P1-W: +0 -3 =0 P1-B: +3 -0 =0 npm 659.714829 nodes 347010 moves 526\n",
            "gameready trainingfile /root/.cache/lc0/data-hryarflvruln/game_000002.gz gameid 2 play_start_ply 0 player1 white result blackwon moves c2c4 d7d5 d1a4 c8d7 a4b4 b7b5 b4c3 c7c5 d2d3 d8b6 e2e3 d7c6 h2h4 b6b7 g1e2 a7a5 b2b3 a8a7 c3a1 f7f6 e2c3 b7a6 a2a3 f6f5 c3b5 c6b5 c4b5 a6e6 a1c3 g8f6 c3c5 e6d7 b1c3 a5a4 c3e2 e7e6 c5c2 f8d6 h4h5 d5d4 e3e4 a7c7 c2b1 e8g8 b3a4 f5e4 h5h6 f6g4 f2f3 e4f3 g2f3 f8f3 f1g2 d6g3 e2g3 f3g3 e1g1 d7d5 b1b2 d5h5 c1f4 c7c2 f4g3 c2b2 f1c1 h5h6 c1c8 g8f7 c8c7 f7f6 g3e5 f6e5 c7c5 e5f4 c5f5 e6f5 g1f1 h6h2 f1e1 h2g2 b5b6 g2e2 from_fen rnbqkbnr/pppppppp/8/8/8/8/PPPPPPPP/1NBQKBNR w Kkq - 0 1\n",
            "tournamentstatus P1: +3 -4 =0 Win: 42.86% Elo: -49.98 LOS: 35.27% P1-W: +0 -4 =0 P1-B: +3 -0 =0 npm 659.421053 nodes 400928 moves 608\n",
            "gameready trainingfile /root/.cache/lc0/data-hryarflvruln/game_000010.gz gameid 10 play_start_ply 0 player1 white result blackwon moves c2c4 d7d5 d1a4 b7b5 a4c2 b5c4 b1c3 c8a6 f2f4 c7c5 f4f5 d5d4 c3e4 e7e6 f5e6 f7e6 g1f3 b8c6 f3g5 d8d7 g2g3 d4d3 c2a4 c6b4 a4d7 e8d7 g5f7 g8f6 f1g2 f6e4 g2e4 f8d6 a2a3 b4c2 e1d1 h8f8 f7d6 d7d6 e4a8 f8a8 h1f1 c2d4 e2d3 c4d3 b2b4 c5b4 a3b4 a6c4 c1b2 c4b3 d1c1 a8c8 c1b1 e6e5 b2d4 e5d4 f1f4 d6e5 f4f3 b3e6 f3f1 c8c2 f1d1 e5d6 b1a1 e6c4 a1b1 d6c6 d1c1 c6b5 c1c2 d3c2 b1c2 b5b4 c2b1 a7a5 b1c2 a5a4 c2b2 a4a3 b2b1 d4d3 b1a1 b4b3 a1b1 a3a2 b1a1 b3c2 h2h4 c2d2 h4h5 d2e2 a1b2 d3d2 b2c3 d2d1q c3c4 a2a1q c4c5 a1c3 c5b6 d1b1 b6a6 c3a3 from_fen rnbqkbnr/pppppppp/8/8/8/8/PPPPPPPP/1NBQKBNR w Kkq - 0 1\n",
            "tournamentstatus P1: +3 -5 =0 Win: 37.50% Elo: -88.74 LOS: 23.98% P1-W: +0 -5 =0 P1-B: +3 -0 =0 npm 659.615169 nodes 469646 moves 712\n",
            "gameready trainingfile /root/.cache/lc0/data-hryarflvruln/game_000011.gz gameid 11 play_start_ply 0 player1 black result blackwon moves h2h3 e7e5 e2e4 h7h5 a2a4 g8e7 f2f4 d7d5 b1c3 a7a6 g2g3 e5f4 d2d4 b8c6 g1f3 d5e4 c3e4 c8f5 e4c5 f4g3 f1c4 e7d5 e1g1 f8c5 d4c5 f5e6 c1g5 d5e7 c4e6 d8d1 e6f7 e8f7 f1d1 e7f5 d1d5 f7g6 g5f4 a8d8 c2c4 d8d5 c4d5 c6d4 f3e5 g6h7 e5f7 h8f8 f7g5 h7g6 g5e6 d4e6 d5e6 f8e8 g1h1 e8e6 f4g3 f5g3 h1g2 e6e5 g2g3 e5c5 g3f4 c5c4 f4e3 c4a4 h3h4 a4h4 e3d3 h4g4 d3c3 h5h4 c3b3 h4h3 b3c3 h3h2 c3b3 h2h1q b3c2 h1f3 c2b1 f3b3 b1c1 g4g2 c1b1 b3b2 from_fen rnbqkbnr/pppppppp/8/8/8/8/PPPPPPPP/1NBQKBNR w Kkq - 0 1\n",
            "tournamentstatus P1: +4 -5 =0 Win: 44.44% Elo: -38.76 LOS: 36.94% P1-W: +0 -5 =0 P1-B: +4 -0 =0 npm 659.739950 nodes 525153 moves 796\n",
            "gameready trainingfile /root/.cache/lc0/data-hryarflvruln/game_000008.gz gameid 8 play_start_ply 0 player1 white result blackwon moves e2e4 h7h5 b1a3 b8a6 a3b5 a6c5 f1c4 c5e4 d2d3 e4d6 b5d6 c7d6 d1e2 d8b6 e1d2 b6b4 d2d1 a7a6 g1h3 g7g6 c4b3 f8h6 f2f4 e7e6 c1d2 b4c5 d3d4 c5d4 d1c1 d4c5 d2c3 h8h7 h1d1 g8e7 a2a3 d6d5 c3b4 c5c6 b4c3 h6g7 h3g5 g7c3 g5h7 c3g7 g2g4 c6c7 f4f5 c7f4 c1b1 f4g4 e2g4 h5g4 f5f6 g7h6 f6e7 e8e7 d1g1 f7f5 h2h3 h6e3 g1g2 g4h3 g2h2 g6g5 h2h3 d5d4 h3h6 g5g4 h6g6 e7f7 g6f6 f7g7 b3c4 g7h7 b1a2 e3h6 f6f7 h7g6 f7e7 b7b5 c4f1 c8b7 e7d7 b7d5 a2a1 h6g5 f1g2 d5g2 d7d4 g2d5 c2c4 b5c4 d4d1 c4c3 d1d5 e6d5 b2c3 g5d8 a1b2 g4g3 b2a1 g3g2 a1b2 g2g1q b2c2 g1f2 c2b3 a8b8 b3a4 f2c2 from_fen rnbqkbnr/pppppppp/8/8/8/8/PPPPPPPP/1NBQKBNR w Kkq - 0 1\n",
            "tournamentstatus P1: +4 -6 =0 Win: 40.00% Elo: -70.44 LOS: 26.35% P1-W: +0 -6 =0 P1-B: +4 -0 =0 npm 659.764901 nodes 597747 moves 906\n",
            "gameready trainingfile /root/.cache/lc0/data-hryarflvruln/game_000001.gz gameid 1 play_start_ply 0 player1 black result whitewon moves e2e4 g8f6 d1e2 e7e5 f2f4 f8c5 c2c3 d7d6 h2h3 d6d5 e4d5 c5b6 e2e5 d8e7 c3c4 c8e6 b2b3 g7g6 c1a3 c7c5 g2g3 e6d7 e1f2 b8c6 e5e7 e8e7 d2d3 b6d8 a3b2 h7h5 h1h2 d7g4 b1d2 a8b8 f2g2 e7d6 d5c6 a7a6 h3g4 h5h4 g1e2 b8a8 b2c3 d6e7 f4f5 b7b5 b3b4 h8h7 c3a1 a8b8 h2h3 f6d7 g2f2 a6a5 f2e1 d7f6 c4b5 e7e8 a1d4 f6g8 h3h4 h7h6 e1f2 b8b6 c6c7 f7f6 c7c8b b6c6 b5c6 c5d4 a2a4 h6h5 b4b5 d8e7 c8b7 e7b4 b5b6 b4c3 b7a8 g8h6 d2f3 e8f7 e2g1 f7g8 f2g2 c3a1 f5g6 h5f5 h4h3 f5h5 f3h4 h6f7 h3h2 a1b2 g4g5 h5h7 h2h1 f7h6 g5f6 h6f7 c6c7 f7d6 a8d5 g8h8 g1f3 b2c1 h4f5 c1h6 g6g7 h6g7 f6g7 from_fen rnbqkbnr/pppppppp/8/8/8/8/PPPPPPPP/1NBQKBNR w Kkq - 0 1\n",
            "tournamentstatus P1: +4 -7 =0 Win: 36.36% Elo: -97.22 LOS: 18.29% P1-W: +0 -6 =0 P1-B: +4 -1 =0 npm 659.949853 nodes 671169 moves 1017\n",
            "gameready trainingfile /root/.cache/lc0/data-hryarflvruln/game_000013.gz gameid 13 play_start_ply 0 player1 black result blackwon moves e2e4 h7h5 c2c3 b8c6 b2b4 g7g6 d1a4 d7d5 b1a3 e7e6 g2g3 d5e4 f2f3 a7a6 f3e4 c8d7 f1e2 c6d4 a4d1 d4e2 d1e2 f8g7 g1f3 g8e7 d2d4 e8g8 e1g1 e6e5 f3e5 g7e5 d4e5 e7c6 a3c4 d7e6 c1f4 e6c4 e2c4 d8e7 f4h6 c6e5 h6f8 a8f8 c4c5 e7c5 b4c5 f8d8 f1b1 d8d2 b1b7 c7c6 h2h4 d2a2 b7e7 f7f6 e7a7 a6a5 c3c4 a5a4 g1f1 e5f3 a7a6 f3e5 a6a7 a4a3 a7a6 g8f7 f1e1 e5d3 e1d1 d3c5 a6a7 f7e6 a7a8 e6e5 d1e1 e5e4 e1f1 c5b3 a8e8 e4f3 e8e1 a2c2 e1d1 a3a2 d1d3 f3e4 d3d1 a2a1q d1a1 b3a1 f1e1 e4e3 e1d1 c2c4 g3g4 a1b3 d1e1 c4c1 from_fen rnbqkbnr/pppppppp/8/8/8/8/PPPPPPPP/1NBQKBNR w Kkq - 0 1\n",
            "tournamentstatus P1: +5 -7 =0 Win: 41.67% Elo: -58.45 LOS: 28.19% P1-W: +0 -6 =0 P1-B: +5 -1 =0 npm 660.031390 nodes 735935 moves 1115\n",
            "gameready trainingfile /root/.cache/lc0/data-hryarflvruln/game_000009.gz gameid 9 play_start_ply 0 player1 black result blackwon moves e2e4 b7b6 d1g4 c8a6 b2b4 d7d5 g4f3 e7e5 f3h5 a6f1 e1f1 b8d7 e4d5 g8f6 h5h4 a7a5 b4b5 f6g8 h4h5 h7h6 g1e2 g7g5 e2c3 a8c8 h5g4 g8e7 h2h4 g5h4 h1h3 d7c5 c1a3 e7g6 h3e3 f8e7 a3c5 b6c5 b1a3 d8d7 g4h5 e8g8 a3c4 e7g5 c4e5 d7f5 e5g4 f5c2 c3e4 c8e8 g4h6 g5h6 e4f6 g8g7 f6e8 f8e8 e3e8 h6d2 g2g3 h4g3 f2g3 d2c3 e8e2 c2b1 f1g2 c3d4 h5f3 b1b5 e2e1 b5b2 g2h3 b2a2 e1f1 f7f6 f1e1 d4e5 e1e2 a2c4 f3e4 c4e4 e2e4 e5d6 e4a4 g6e5 a4a5 c5c4 a5a2 g7g6 h3g2 g6f5 a2e2 c4c3 e2c2 d6b4 c2e2 e5c4 g2f3 c4d2 f3e3 c3c2 e2f2 f5e5 e3d3 c2c1q f2e2 e5d5 d3e3 c1c3 e3f2 c3f3 f2e1 f3f1 from_fen rnbqkbnr/pppppppp/8/8/8/8/PPPPPPPP/1NBQKBNR w Kkq - 0 1\n",
            "tournamentstatus P1: +6 -7 =0 Win: 46.15% Elo: -26.78 LOS: 39.08% P1-W: +0 -6 =0 P1-B: +6 -1 =0 npm 659.924082 nodes 808407 moves 1225\n",
            "gameready trainingfile /root/.cache/lc0/data-hryarflvruln/game_000018.gz gameid 18 play_start_ply 0 player1 white result blackwon moves c2c4 d7d5 f2f4 d8d7 a2a3 c7c5 g2g3 g8h6 g1h3 b8a6 b2b3 a8b8 e2e3 d7d6 d2d3 d6b6 h1g1 g7g6 c1d2 d5d4 e3e4 h6g4 e4e5 f8g7 h3f2 g4e3 d2e3 d4e3 f2e4 e8g8 b1c3 f7f6 g3g4 f6e5 f4f5 g6f5 g4f5 c8f5 c3d5 b6a5 b3b4 c5b4 d1h5 b4a3 e1e2 f5e4 g1g7 g8h8 g7h7 e4h7 h5e5 f8f6 e2e3 a3a2 e5a1 b8f8 f1e2 a5c5 e3d2 a6b4 d5b4 c5b4 d2c1 b4e1 e2d1 h7d3 c1b2 e1b4 b2a2 d3c4 d1b3 b4b3 from_fen rnbqkbnr/pppppppp/8/8/8/8/PPPPPPPP/1NBQKBNR w Kkq - 0 1\n",
            "tournamentstatus P1: +6 -8 =0 Win: 42.86% Elo: -49.98 LOS: 29.65% P1-W: +0 -7 =0 P1-B: +6 -1 =0 npm 659.878180 nodes 855862 moves 1297\n",
            "gameready trainingfile /root/.cache/lc0/data-hryarflvruln/game_000016.gz gameid 16 play_start_ply 0 player1 white result blackwon moves c2c4 e7e5 a2a3 d8g5 g2g4 b8a6 f1h3 a8b8 h3f1 f8a3 g1f3 g5g4 h1g1 g4c4 b1a3 c4a2 g1g2 h7h6 d1c2 b7b5 g2g4 b8b6 f1g2 d7d6 g4g7 g8e7 d2d3 e7d5 d3d4 a6b4 c2d2 a2a1 e1d1 b4a2 f3e5 a2c1 a3c2 a1b2 g2d5 d6e5 d2e3 c8e6 e3e5 c1a2 d5a2 b2a2 g7g3 h8f8 g3c3 a2d5 e5c7 b5b4 c3e3 b4b3 c2a3 b3b2 a3b1 d5c6 c7c6 b6c6 e3c3 c6c3 b1c3 a7a5 d1c2 e8e7 c2b2 f8b8 b2c2 e6b3 c2b2 b3c4 b2c2 b8b4 c3d1 c4e2 d1e3 b4b5 c2d2 e2f3 e3c4 f3d5 c4e3 e7e6 e3c2 a5a4 d2d1 d5e4 f2f3 e4c2 d1c2 a4a3 c2c3 a3a2 c3c4 a2a1q c4b5 a1d4 b5c6 d4f4 c6b7 f4f3 b7b6 e6d5 b6c7 f3h3 c7b7 h3h2 b7b6 h2d6 b6b7 d6c6 b7a7 c6b5 a7a8 d5c6 a8a7 b5b7 from_fen rnbqkbnr/pppppppp/8/8/8/8/PPPPPPPP/1NBQKBNR w Kkq - 0 1\n",
            "tournamentstatus P1: +6 -9 =0 Win: 40.00% Elo: -70.44 LOS: 21.93% P1-W: +0 -8 =0 P1-B: +6 -1 =0 npm 659.821908 nodes 933648 moves 1415\n",
            "gameready trainingfile /root/.cache/lc0/data-hryarflvruln/game_000014.gz gameid 14 play_start_ply 0 player1 white result whitewon moves e2e4 b8c6 f2f4 h7h6 d1e2 c6a5 e2d3 a7a6 g1h3 h6h5 e1f2 e7e5 d3g3 f8e7 g3f3 b7b5 f3d3 e7f8 f2e1 a8b8 b2b4 h5h4 b4a5 g7g6 e1d1 g8e7 d3e2 h8h5 h3g1 f7f6 b1c3 c7c5 g2g3 e7f5 e2g2 c5c4 f1e2 e8f7 g1h3 f8a3 h1f1 h5h6 f4e5 d8c7 h3g5 f7f8 e2c4 c7e5 g2e2 f8e8 c1a3 f5d4 e2g2 d4e2 a3c1 e2d4 g5f7 e5h5 c3e2 b8b7 f1f2 d4c6 a2a3 b7b8 f2f5 c6d8 f5f6 d7d5 h2h3 c8f5 c2c3 e8e7 a3a4 b8c8 d1e1 d8e6 e1d1 e6d4 e4f5 c8f8 f5g6 f8b8 f6f1 b8f8 d2d3 h6h7 g2f2 f8e8 c1d2 h7f7 f2e3 h5e5 e3e5 e7d8 e5g5 f7f6 f1g1 d4f5 g5f6 f5e7 f6f3 b5b4 d2e3 e8h8 g1g2 h8h7 f3f7 h7h8 e3d2 h8g8 g6g7 e7c6 c4d5 c6a5 d2g5 d8c8 g5f4 c8d8 f7g8 d8e7 g8e6 e7d8 g7g8q from_fen rnbqkbnr/pppppppp/8/8/8/8/PPPPPPPP/1NBQKBNR w Kkq - 0 1\n",
            "tournamentstatus P1: +7 -9 =0 Win: 43.75% Elo: -43.66 LOS: 30.85% P1-W: +1 -8 =0 P1-B: +6 -1 =0 npm 660.013654 nodes 1015101 moves 1538\n",
            "gameready trainingfile /root/.cache/lc0/data-hryarflvruln/game_000020.gz gameid 20 play_start_ply 0 player1 white result blackwon moves c2c4 e7e6 b2b4 a7a5 b4b5 d7d5 h2h4 f8e7 a2a3 e6e5 d1b3 g7g6 b3g3 d5d4 g1f3 e5e4 g3e5 g8f6 f3d4 h7h6 d4c2 b8d7 e5c3 d7c5 c2e3 h8h7 c3b2 c5d7 f2f4 a5a4 b2c2 f6h5 c1b2 d7f6 b1c3 h5g3 h1h2 h6h5 c3d5 f6d5 e3d5 c8e6 d5e7 d8e7 c2c3 g3f1 e1f1 e7c5 c3f6 a8d8 b2c3 c5f5 f1e1 f5f6 c3f6 e6c4 h2h3 d8d6 f6e5 c4b5 e5d6 c7d6 h3c3 b5c6 e1f2 e8d7 f4f5 h7g7 f2e3 g6f5 e3f2 f5f4 e2e3 f7f5 e3f4 d6d5 d2d4 e4d3 c3d3 d7d6 d3f3 d5d4 f3d3 d6d5 d3d2 d5e4 d2e2 e4d3 g2g3 d3c3 e2e1 d4d3 e1d1 d3d2 f2e2 g7d7 d1d2 d7d2 e2e3 c3c2 g3g4 h5g4 h4h5 g4g3 h5h6 g3g2 h6h7 g2g1q from_fen rnbqkbnr/pppppppp/8/8/8/8/PPPPPPPP/1NBQKBNR w Kkq - 0 1\n",
            "tournamentstatus P1: +7 -10 =0 Win: 41.18% Elo: -61.96 LOS: 23.34% P1-W: +1 -9 =0 P1-B: +6 -1 =0 npm 660.040705 nodes 1086427 moves 1646\n",
            "gameready trainingfile /root/.cache/lc0/data-hryarflvruln/game_000015.gz gameid 15 play_start_ply 0 player1 black result blackwon moves h2h3 g8f6 g2g4 b7b5 f2f4 c8a6 h1h2 f6g8 b1c3 d8c8 h2h1 d7d5 b2b4 g7g5 h1h2 c7c5 a2a4 b5a4 b4b5 a6b7 f4g5 c8d8 h3h4 c5c4 d2d3 f8g7 d3d4 d8a5 h2h3 a7a6 b5b6 b8c6 c1d2 g7d4 f1g2 e8c8 e1f1 e7e5 d1a1 g8e7 g1f3 d4c3 d2c3 a5b6 f3e5 d5d4 e5c4 b6c5 c4b2 d4c3 b2a4 c5a5 h3c3 d8d4 c3a3 h8d8 f1f2 a5e5 a3f3 d4g4 a1e5 c6e5 f3c3 c8b8 g2b7 g4a4 c3b3 b8c7 h4h5 e5c6 f2e1 d8b8 g5g6 h7g6 h5g6 f7g6 b7c6 e7c6 b3f3 a4a5 f3f7 c7b6 e1d1 b8d8 d1e1 c6d4 f7f6 b6c5 f6g6 d4c2 e1f1 c2e3 f1f2 a5a3 g6g5 e3d5 e2e4 d8f8 f2g1 a3d3 e4d5 d3d5 g5g7 a6a5 g7g2 d5d1 g1h2 d1d4 g2c2 d4c4 c2b2 f8g8 h2h3 c4c1 h3h2 a5a4 b2a2 c1c4 h2h3 c5b4 a2b2 b4c3 b2f2 a4a3 f2f5 a3a2 f5a5 c4a4 a5a4 c3b2 a4b4 b2a3 b4f4 a2a1q f4f3 a3b4 f3f4 b4c5 f4f5 c5d6 f5f3 a1h1 from_fen rnbqkbnr/pppppppp/8/8/8/8/PPPPPPPP/1NBQKBNR w Kkq - 0 1\n",
            "tournamentstatus P1: +8 -10 =0 Win: 44.44% Elo: -38.76 LOS: 31.87% P1-W: +1 -9 =0 P1-B: +7 -1 =0 npm 660.034676 nodes 1180142 moves 1788\n",
            "gameready trainingfile /root/.cache/lc0/data-hryarflvruln/game_000022.gz gameid 22 play_start_ply 0 player1 white result blackwon moves c2c4 e7e6 b2b4 e6e5 g2g4 a7a5 b4a5 h7h6 a2a4 f8d6 a5a6 c7c6 g1f3 b8a6 c1b2 a6c5 b1c3 g8f6 d1c2 e5e4 f3d4 d6e5 d4b3 c5b3 c2b3 d7d6 h1g1 c8g4 c3e4 f6e4 g1g4 e4c5 b3e3 c5e6 d2d4 e5f6 f1h3 e8g8 e3h6 f6g5 h6h5 g7g6 d4d5 g6h5 g4g1 d8a5 e1f1 a5d2 d5e6 d2b2 g1g5 g8h8 g5h5 h8g7 e6e7 f8h8 h5g5 g7f6 g5g3 f6e7 g3e3 e7f8 f1g2 h8g8 h3g4 g8g4 e3g3 b2e2 h2h3 g4g3 g2g3 a8a4 h3h4 a4a3 g3f4 a3f3 f4g5 e2e4 h4h5 e4f4 from_fen rnbqkbnr/pppppppp/8/8/8/8/PPPPPPPP/1NBQKBNR w Kkq - 0 1\n",
            "tournamentstatus P1: +8 -11 =0 Win: 42.11% Elo: -55.32 LOS: 24.56% P1-W: +1 -10 =0 P1-B: +7 -1 =0 npm 660.058351 nodes 1232989 moves 1868\n",
            "gameready trainingfile /root/.cache/lc0/data-hryarflvruln/game_000017.gz gameid 17 play_start_ply 0 player1 black result blackwon moves e2e4 b7b6 g1h3 b8a6 d1e2 c8b7 f2f3 g7g6 f3f4 f8h6 h1g1 f7f6 e2c4 f6f5 b1c3 a6b8 h3g5 e7e6 e4f5 g6f5 g2g4 g8e7 c4d4 h8g8 d4e3 h6g5 f4g5 b7a6 g1h1 d7d5 e3e6 d8d7 e6d7 e8d7 d2d3 d7d8 b2b4 f5g4 h2h3 d8d7 f1g2 d7d8 e1f2 g4h3 h1h3 g8f8 f2e2 a6b7 h3h7 b8d7 c3b5 f8e8 e2d1 b7a6 b5d4 d7f8 h7f7 a6c8 c2c4 a8b8 c4d5 f8g6 a2a4 e8g8 c1a3 d8e8 f7f6 g6e5 b4b5 g8g5 g2e4 c8g4 d1c2 b8d8 f6f1 g5g8 d4c6 e5c6 b5c6 g8g5 c2d2 g5e5 f1h1 g4h5 h1g1 d8d5 e4d5 e7d5 g1g8 e8f7 g8f8 f7e6 f8h8 d5f4 d2c3 h5g6 c3c4 g6d3 c4d4 e5e4 d4c3 e4a4 h8h6 e6d5 h6h7 a4a3 c3b2 a3a1 h7h5 f4h5 b2a1 d3h7 a1b2 d5c5 b2c3 b6b5 c3b2 a7a5 b2c1 c5c6 c1d2 c6c5 d2e1 b5b4 e1d2 a5a4 d2e2 a4a3 e2f2 a3a2 f2f3 a2a1q f3g4 a1b2 g4g5 b2f6 g5h5 f6g6 h5h4 b4b3 h4h3 b3b2 h3h4 b2b1q h4h3 b1h1 from_fen rnbqkbnr/pppppppp/8/8/8/8/PPPPPPPP/1NBQKBNR w Kkq - 0 1\n",
            "tournamentstatus P1: +9 -11 =0 Win: 45.00% Elo: -34.86 LOS: 32.74% P1-W: +1 -10 =0 P1-B: +8 -1 =0 npm 659.937934 nodes 1329115 moves 2014\n",
            "gameready trainingfile /root/.cache/lc0/data-hryarflvruln/game_000025.gz gameid 25 play_start_ply 0 player1 black result blackwon moves c2c4 b7b5 d1b3 b5c4 b3a3 c7c5 a3c3 f7f5 g1h3 d8b6 f2f3 b6d8 d2d3 d7d5 g2g4 b8a6 h1g1 a8b8 g4f5 g8f6 e2e4 c4d3 f1d3 c5c4 d3e2 a6b4 c1f4 b4a2 c3d2 b8b7 e1f1 d5e4 e2c4 d8d2 b1d2 c8f5 h3g5 h7h6 c4f7 e8d7 g5e4 e7e6 d2c4 f6e4 f3e4 f5e4 c4e5 d7d8 f7e6 f8c5 g1g4 h8f8 f1e1 b7b2 e5f7 d8e7 e6c4 f8f7 c4f7 e7f7 f4e5 b2b1 e1d2 c5b4 d2e3 b1e1 e3f2 a2c1 f2g3 c1d3 g4g7 f7e6 e5d4 e1f1 g3h4 f1f4 h4h3 a7a5 g7a7 e4f5 h3g2 f4d4 g2f3 d3e5 f3e3 d4e4 e3f2 b4c5 f2g2 c5a7 h2h3 a5a4 g2g3 a4a3 g3g2 a3a2 g2g3 a2a1q h3h4 a1g1 from_fen rnbqkbnr/pppppppp/8/8/8/8/PPPPPPPP/1NBQKBNR w Kkq - 0 1\n",
            "tournamentstatus P1: +10 -11 =0 Win: 47.62% Elo: -16.56 LOS: 41.36% P1-W: +1 -10 =0 P1-B: +9 -1 =0 npm 659.912488 nodes 1395055 moves 2114\n",
            "gameready trainingfile /root/.cache/lc0/data-hryarflvruln/game_000024.gz gameid 24 play_start_ply 0 player1 white result blackwon moves e2e4 b8c6 f1b5 h7h5 b5a4 c6b4 d1f3 e7e6 g1e2 e6e5 h1f1 f8e7 c2c3 b4c6 d2d4 g7g6 a4d1 d7d5 e4d5 c8g4 f3g3 d8d5 d1b3 d5d7 d4d5 c6a5 g3e5 f7f6 e5d4 a5b3 a2b3 g4e2 e1e2 d7g4 e2d3 e8c8 c3c4 g4d4 d3d4 g8h6 b1c3 h6f5 d4d3 c7c6 c1f4 e7b4 f1a1 a7a6 c3a4 b4d6 f4d6 d8d6 b3b4 c6d5 c4c5 d6e6 b4b5 a6b5 a4b6 c8c7 b6d5 c7c6 d5b4 c6c5 d3c3 h8d8 b4d3 c5b6 d3f4 e6c6 c3b3 h5h4 a1e1 g6g5 f4e6 d8d2 g2g4 h4g3 h2g3 d2f2 g3g4 f5d6 e6d4 c6c4 e1e2 f2e2 d4e2 c4g4 b3a3 g4e4 e2c3 d6c4 a3a2 e4e5 a2b1 g5g4 b2b3 g4g3 b3c4 g3g2 b1a1 e5e1 a1b2 g2g1q b2a3 b5c4 c3a4 b6c6 a4c3 g1b6 c3b5 b6b5 a3a2 b5b3 from_fen rnbqkbnr/pppppppp/8/8/8/8/PPPPPPPP/1NBQKBNR w Kkq - 0 1\n",
            "tournamentstatus P1: +10 -12 =0 Win: 45.45% Elo: -31.67 LOS: 33.49% P1-W: +1 -11 =0 P1-B: +9 -1 =0 npm 659.893178 nodes 1470242 moves 2228\n",
            "gameready trainingfile /root/.cache/lc0/data-hryarflvruln/game_000021.gz gameid 21 play_start_ply 0 player1 black result blackwon moves h2h3 g7g6 g2g4 b8c6 c2c3 a7a6 d1a4 e7e6 a4f4 f7f6 e2e3 a6a5 g1e2 c6b8 c3c4 h7h6 f4f3 f6f5 b1a3 d7d6 a3b5 b8a6 e1d1 d8d7 f1g2 f5f4 b5d4 d7f7 d2d3 g8f6 d4b5 e8e7 h1g1 e7e8 b5a3 e8d8 d1e1 c7c5 g2f1 f7e7 a3b1 e7e8 h3h4 d8e7 b1a3 h8h7 b2b3 e8f7 e2c3 e7e8 d3d4 f4e3 f2e3 a8b8 f3d1 f6d7 g4g5 f8e7 a3b5 h6g5 f1d3 d6d5 g1f1 f7g8 a2a3 a5a4 d3e2 h7h4 c1b2 c5d4 b5d4 a4b3 c4d5 e6d5 d4f3 a6c7 f3h4 g5h4 e3e4 d7c5 e4d5 c8f5 c3b5 c7b5 e2b5 e8d8 b2e5 b3b2 e5b2 e7d6 d1d4 d8c7 e1d1 h4h3 d4c4 b8c8 b2d4 c7b8 c4e2 c5b3 e2e3 c8c1 d1e2 f5g4 e2f2 g8f7 d4f6 f7f6 f2g1 h3h2 g1g2 c1f1 e3e8 b8c7 e8e7 f6e7 b5f1 e7e3 a3a4 e3g1 from_fen rnbqkbnr/pppppppp/8/8/8/8/PPPPPPPP/1NBQKBNR w Kkq - 0 1\n",
            "tournamentstatus P1: +11 -12 =0 Win: 47.83% Elo: -15.12 LOS: 41.74% P1-W: +1 -11 =0 P1-B: +10 -1 =0 npm 659.828365 nodes 1549277 moves 2348\n",
            "gameready trainingfile /root/.cache/lc0/data-hryarflvruln/game_000023.gz gameid 23 play_start_ply 0 player1 black result blackwon moves e2e4 e7e6 d1g4 h7h6 b2b4 b7b5 f1e2 d7d6 c2c3 d8g5 g4g5 h6g5 e2b5 e8d8 h2h3 g8h6 e1e2 h8h7 e2d1 d6d5 b5e2 f8e7 g1f3 f7f5 f3e5 c8d7 d1c2 c7c6 h1e1 f5e4 d2d3 e4d3 e2d3 h7h8 e5g6 h8e8 g6e7 d8e7 c1g5 e7f8 a2a4 e6e5 g2g4 h6f7 g5e3 a7a5 b4b5 c6b5 a4b5 d7e6 f2f4 e5f4 e3f4 b8d7 b1d2 a5a4 d2f3 d7c5 d3g6 e6d7 f4e3 e8e3 e1e3 a4a3 e3e1 d7b5 f3d4 b5c4 c2b1 a8b8 b1a1 c5b3 d4b3 b8b3 h3h4 b3c3 g4g5 d5d4 a1b1 d4d3 e1f1 d3d2 f1d1 a3a2 b1b2 c3c1 d1c1 d2c1q b2c1 a2a1q c1d2 a1d4 d2c2 f7e5 g6e4 d4e4 c2c3 e5g6 h4h5 g6f4 h5h6 f4d5 c3b2 e4e2 b2c1 c4d3 h6g7 f8g7 g5g6 e2c2 from_fen rnbqkbnr/pppppppp/8/8/8/8/PPPPPPPP/1NBQKBNR w Kkq - 0 1\n",
            "tournamentstatus P1: +12 -12 =0 Win: 50.00% Elo: -0.00 LOS: 50.00% P1-W: +1 -11 =0 P1-B: +11 -1 =0 npm 659.720098 nodes 1621592 moves 2458\n",
            "gameready trainingfile /root/.cache/lc0/data-hryarflvruln/game_000019.gz gameid 19 play_start_ply 0 player1 black result whitewon moves e2e4 g8h6 a2a3 a7a6 d1e2 c7c6 e2f3 d8b6 f3e2 d7d6 c2c4 b6a7 f2f4 a6a5 g2g3 e8d8 e2d1 a7a6 d1h5 b7b5 c4c5 f7f5 h5d1 a6b7 g1h3 d8c7 h3f2 c8d7 f1e2 d7e8 h2h3 c7c8 e4e5 b5b4 b2b3 a8a7 c5d6 e8d7 e1g1 b7b6 g1h2 a5a4 d1e1 e7d6 b3a4 d7e8 f2d1 c8d7 a4a5 b6a5 a3b4 a5c7 e2d3 d6e5 f4e5 c7d8 d1e3 a7c7 f1f2 c7b7 e1e2 d8b6 e3g2 f8e7 b1c3 h6g8 f2f4 e7b4 c1b2 g7g5 f4f3 d7e7 e2e1 g8h6 g2e3 e7d8 e5e6 h6f7 d3f1 b4a5 e6f7 a5b4 c3e2 b8a6 f7f8n b4e7 b2a3 g5g4 e2f4 h7h6 a3b4 b7a7 e1d1 d8c7 h3h4 a6b8 b4a3 h6h5 d1e1 e7c5 e1a1 a7a8 f4d3 c7d8 a1d1 c5b4 d1e1 b6b5 h2h1 b5a6 a3b4 g4f3 b4e7 d8c7 h1g1 c6c5 e1c1 e8g6 d3b4 g6e8 c1c3 f5f4 g3g4 h8g8 f8d7 a6a4 b4d5 c7c8 g1h2 a4a7 c3b3 g8g5 e7f6 a7a3 b3b6 a3a5 f1a6 c8d7 b6b7 d7d6 d5c3 h5g4 c3e4 d6e6 b7e7 from_fen rnbqkbnr/pppppppp/8/8/8/8/PPPPPPPP/1NBQKBNR w Kkq - 0 1\n",
            "tournamentstatus P1: +12 -13 =0 Win: 48.00% Elo: -13.90 LOS: 42.07% P1-W: +1 -11 =0 P1-B: +11 -2 =0 npm 659.684211 nodes 1717158 moves 2603\n",
            "gameready trainingfile /root/.cache/lc0/data-hryarflvruln/game_000012.gz gameid 12 play_start_ply 0 player1 white result draw moves e2e4 c7c5 g2g4 h7h6 f1b5 g7g5 d1f3 d8c7 g1e2 a7a6 b5c4 e7e6 d2d3 f8e7 c2c3 c7e5 c1e3 b7b5 c4b3 c8b7 b1d2 d7d5 h2h4 d5e4 d2e4 a6a5 e4f6 e8d8 f3b7 g8f6 b3e6 f7e6 b7a8 f6g4 e3c5 e7c5 d3d4 e5c7 d4c5 d8c8 a8e4 g4e5 h4g5 c7c6 e4c6 e5c6 h1h3 b8a6 h3h5 c8d7 e2g3 a6c5 e1d2 d7e8 a2a3 e6e5 d2d1 a5a4 g5g6 e8f8 c3c4 b5c4 g3f5 c5e6 h5h6 h8h6 f5h6 c4c3 b2c3 f8g7 h6f5 g7g6 f5e3 e6c5 e3d5 g6f7 d1e2 f7e6 c3c4 c5a6 e2e1 a6b4 d5c3 b4d3 e1d2 d3c5 c3d5 c6d4 d2c3 e6d6 d5f6 d4c6 c3d2 c5d7 f6e4 d6e6 d2e2 c6b8 e2d2 b8a6 f2f3 a6c7 d2e1 e6e7 e1f2 c7e6 f2e3 e7f8 e4g3 e6c7 e3d2 f8e8 g3f5 d7f6 d2e3 e8d8 f5g3 f6h7 e3d2 c7a8 g3h5 d8e8 d2c2 e8e7 c2c3 h7f6 h5g3 e7d6 c3b4 d6c6 g3f5 f6g8 f5g7 a8b6 g7e6 b6d7 b4a5 d7b8 e6f8 e5e4 f3e4 g8f6 e4e5 f6h5 e5e6 h5f6 a5a4 c6c5 a4b3 b8c6 a3a4 c5d6 e6e7 c6e7 b3c2 f6e8 c2c3 e8c7 c3c2 e7f5 c2d2 f5g3 d2d3 c7a6 d3d4 g3h5 c4c5 d6c7 f8e6 c7d7 e6g5 d7c6 g5e4 h5f4 d4c4 f4g2 c4c3 c6d5 e4f6 d5c5 c3b3 g2e3 a4a5 e3f5 b3a4 f5e7 f6h7 a6b4 a4a3 b4d5 h7f6 d5c3 f6d7 c5b5 d7f8 e7c6 f8h7 c3d5 a3a2 d5e7 a2b1 c6a5 b1c2 e7c8 h7g5 c8a7 c2b2 b5b4 g5f3 b4c5 b2a1 a5b7 f3d4 c5b4 d4b5 b4c4 a1a2 a7b5 a2a1 b5c7 a1a2 c4b5 a2a1 b7d8 a1b1 c7a8 b1a2 d8f7 a2b2 b5a6 b2c3 f7g5 c3b4 g5f3 b4c4 f3e5 c4d5 e5d7 d5d6 a6b7 d6d5 d7b8 d5e5 b8d7 e5f5 d7b8 f5e6 b7c8 e6f7 c8c7 f7e7 c7c8 e7e6 b8c6 e6f5 c6a7 f5g4 c8d8 g4h5 a8b6 h5g6 d8c8 g6h7 b6a8 h7h8 a8c7 h8h7 c7e6 h7h8 c8b7 h8h7 b7c8 h7h8 c8d7 h8g8 d7e7 g8h7 e6d8 h7g7 d8b7 g7h7 e7e8 h7g8 b7d6 g8h7 d6f5 h7g6 f5e7 g6h6 e7c8 h6g7 e8d8 g7f7 c8e7 f7g7 e7f5 g7h8 f5d6 h8h7 d6b5 h7h6 b5a3 h6g6 d8c8 g6h5 a3b1 h5g6 c8b8 g6f5 b1c3 f5f4 c3e2 f4g5 e2g1 g5g6 g1f3 g6g7 f3e5 from_fen rnbqkbnr/pppppppp/8/8/8/8/PPPPPPPP/1NBQKBNR w Kkq - 0 1\n",
            "tournamentstatus P1: +12 -13 =1 Win: 48.08% Elo: -13.37 LOS: 42.07% P1-W: +1 -11 =1 P1-B: +11 -2 =0 npm 659.894214 nodes 1927551 moves 2921\n",
            "gameready trainingfile /root/.cache/lc0/data-hryarflvruln/game_000027.gz gameid 27 play_start_ply 0 player1 black result blackwon moves c2c4 b7b5 g1h3 c7c6 f2f4 c8a6 b2b4 g8h6 a2a3 f7f5 c4b5 a6b7 h1g1 d8b6 d1c2 c6b5 c1b2 b6d6 b2a1 d6g6 c2d1 b8a6 d1b3 e8d8 a1d4 b7e4 h3f2 h8g8 g1h1 e4b7 b3b2 h6g4 b2a2 g6e6 a2e6 d7e6 f2d3 g7g5 f4g5 g8g5 h2h3 g4f6 h1g1 f8g7 d4e3 g5g6 g2g4 f6d5 f1g2 f5g4 h3h4 g7f6 h4h5 g6g8 e3f2 g4g3 f2e3 a8c8 e3a7 c8c4 e2e4 d5b4 a3b4 b7e4 g2f1 a6b4 d3b4 c4b4 b1c3 e4f3 f1d3 g3g2 e1f2 f3h5 c3e4 f6h4 f2e3 g8f8 g1g2 f8f3 e3e2 f3f2 e2e3 f2g2 a7b6 d8e8 b6d4 h4f2 e4f2 g2g3 e3f4 g3d3 f2d3 b4d4 f4e3 d4d3 e3d3 h5g6 d3c3 h7h5 d2d3 h5h4 c3d2 h4h3 d2e2 h3h2 e2f3 h2h1q f3f4 h1f3 f4f3 g6d3 f3e3 d3c4 e3d4 e8d7 d4e3 d7d6 e3f2 d6c5 f2g1 b5b4 g1h2 b4b3 h2g3 b3b2 g3f2 b2b1q f2e3 b1d3 e3f4 d3f5 f4g3 e6e5 g3g2 e5e4 g2g3 e4e3 g3g2 e3e2 g2g3 e2e1q g3g2 f5f2 g2h3 f2g3 from_fen rnbqkbnr/pppppppp/8/8/8/8/PPPPPPPP/1NBQKBNR w Kkq - 0 1\n",
            "tournamentstatus P1: +13 -13 =1 Win: 50.00% Elo: -0.00 LOS: 50.00% P1-W: +1 -11 =1 P1-B: +12 -2 =0 npm 659.881643 nodes 2023857 moves 3067\n",
            "gameready trainingfile /root/.cache/lc0/data-hryarflvruln/game_000026.gz gameid 26 play_start_ply 0 player1 white result blackwon moves h2h3 c7c5 f2f4 a7a6 b2b3 g8h6 b1c3 g7g5 e2e3 b7b6 d1h5 b8c6 g2g3 h8g8 f4g5 h6f5 h5f3 g8g7 c3a4 e7e6 h3h4 a8a7 a4b2 c5c4 b2d1 c4b3 a2b3 c8b7 h1h3 d8c8 g3g4 c6d4 f3f4 f8d6 f4f2 d4c2 e1e2 c8a8 d1b2 f5e7 b2c4 d6c7 c1b2 g7g8 g1f3 b6b5 c4e5 a8b8 e5d3 c7d8 h3h1 b7a8 h1g1 e7d5 f1g2 d7d6 g1c1 d5b4 d3f4 e6e5 f4h5 b8c8 f3h2 a7c7 c1f1 a8g2 f2g2 c8b7 g2f2 b7d5 f2f5 g8g6 h2f3 d5b3 b2e5 b3c4 e2f2 b4d3 f2g3 c7c5 f3d4 c5e5 f5f3 c2d4 e3d4 e5e1 f1e1 d3e1 f3e3 g6e6 h5g7 e8d7 g7e6 c4e6 e3f2 a6a5 d4d5 e6e5 g3h3 d7e8 d2d3 e1d3 f2f3 b5b4 f3d3 e5c3 d3c3 b4c3 g5g6 h7g6 g4g5 c3c2 h3g3 c2c1q g3f3 a5a4 f3e4 a4a3 h4h5 a3a2 h5h6 a2a1q e4f3 c1g5 f3e2 g5e5 e2d3 a1c3 from_fen rnbqkbnr/pppppppp/8/8/8/8/PPPPPPPP/1NBQKBNR w Kkq - 0 1\n",
            "tournamentstatus P1: +13 -14 =1 Win: 48.21% Elo: -12.41 LOS: 42.37% P1-W: +1 -12 =1 P1-B: +12 -2 =0 npm 659.810955 nodes 2108096 moves 3195\n",
            "gameready trainingfile /root/.cache/lc0/data-hryarflvruln/game_000031.gz gameid 31 play_start_ply 0 player1 black result blackwon moves c2c4 a7a6 f2f4 b8c6 g2g4 a8b8 e1f2 h7h6 f1h3 e7e6 d1c2 g7g5 f4g5 b7b5 g5g6 d8f6 g1f3 f6g6 d2d3 b5c4 c2c4 g6g7 b2b3 f8b4 c4c2 g8e7 b1d2 e6e5 h1g1 d7d5 c1b2 g7f6 g1g3 h8g8 e2e4 b4d2 c2d2 d5e4 d3e4 c6d4 b2d4 e5d4 d2c2 f6f4 c2c5 c8b7 f2e2 b7e4 f3d4 g8g5 d4e6 f7e6 c5e3 f4e5 e3c3 e7d5 c3c6 e8e7 c6c5 e7d7 e2f2 e5b2 f2g1 d5f4 c5e3 f4h3 g1f1 b8f8 f1e1 g5d5 g3f3 f8f3 e3f3 e4f3 g4g5 d5d1 from_fen rnbqkbnr/pppppppp/8/8/8/8/PPPPPPPP/1NBQKBNR w Kkq - 0 1\n",
            "tournamentstatus P1: +14 -14 =1 Win: 50.00% Elo: -0.00 LOS: 50.00% P1-W: +1 -12 =1 P1-B: +13 -2 =0 npm 659.814124 nodes 2158252 moves 3271\n",
            "gameready trainingfile /root/.cache/lc0/data-hryarflvruln/game_000029.gz gameid 29 play_start_ply 0 player1 black result blackwon moves b1c3 g7g6 g2g4 h7h6 b2b4 a7a6 f2f4 g8f6 g1f3 d7d5 h2h3 b7b5 f3d4 c8d7 d4f3 a6a5 c1b2 d5d4 c3b5 d7b5 f3d4 b5c4 f1g2 a8a6 d2d3 c4d5 e2e4 d5a8 b4b5 a6d6 d4b3 f8g7 d1e2 a5a4 b3d2 d6b6 c2c4 f6h5 b2g7 h5g7 e2e3 e7e5 f4e5 g7e6 d2b1 b8d7 d3d4 c7c5 d4d5 e6d4 e1g1 d7e5 g1h1 b6f6 f1d1 e8g8 b1c3 e5c4 e3e1 d8c7 e4e5 c7e5 e1e5 c4e5 d1b1 d4f3 b1f1 f6f4 g2f3 f4f3 f1f3 e5f3 c3e4 f7f5 e4c3 f5g4 h3g4 f3e5 c3a4 a8d5 h1h2 f8f4 a4c3 d5b7 h2g1 f4g4 g1f1 h6h5 c3d1 h5h4 a2a3 h4h3 d1f2 g4g3 f2h3 g3h3 b5b6 h3a3 f1e2 c5c4 e2d2 a3b3 d2c2 b3b6 c2c3 b6b3 c3d4 c4c3 d4e5 c3c2 e5e6 c2c1q e6f6 b3b6 f6e7 c1c7 e7e8 b6e6 from_fen rnbqkbnr/pppppppp/8/8/8/8/PPPPPPPP/1NBQKBNR w Kkq - 0 1\n",
            "tournamentstatus P1: +15 -14 =1 Win: 51.67% Elo: 11.59 LOS: 57.37% P1-W: +1 -12 =1 P1-B: +14 -2 =0 npm 659.838005 nodes 2236191 moves 3389\n",
            "gameready trainingfile /root/.cache/lc0/data-hryarflvruln/game_000032.gz gameid 32 play_start_ply 0 player1 white result blackwon moves g2g3 e7e5 g1f3 f8e7 c2c4 d7d5 d2d4 c7c6 b1c3 e5e4 f3d2 g8f6 f2f4 e7f8 a2a3 d8d7 c3a2 a7a6 h1g1 d7e6 g1h1 e8d8 d1a4 e6d6 b2b3 a6a5 e2e3 d6c7 b3b4 d5c4 b4b5 c6b5 a4b5 c8d7 b5c4 d7e6 c4c7 d8c7 a2c3 b8d7 g3g4 e6g4 h1g1 g4f5 g1g5 g7g6 c1b2 a8c8 d4d5 c7b8 d2c4 f6g4 c3e4 f7f6 g5g4 f5e4 f4f5 e4f5 g4h4 f8c5 e1d2 h8e8 h4h7 d7b6 c4a5 c5e3 d2e1 e3g5 f1e2 c8c2 e1f1 e8e2 a5c6 b7c6 h7h8 b8a7 h8h7 a7a6 b2e5 e2e5 h7a7 a6a7 d5c6 e5d5 f1e1 d5d2 c6c7 c2c1 from_fen rnbqkbnr/pppppppp/8/8/8/8/PPPPPPPP/1NBQKBNR w Kkq - 0 1\n",
            "tournamentstatus P1: +15 -15 =1 Win: 50.00% Elo: -0.00 LOS: 50.00% P1-W: +1 -13 =1 P1-B: +14 -2 =0 npm 659.874029 nodes 2294382 moves 3477\n",
            "gameready trainingfile /root/.cache/lc0/data-hryarflvruln/game_000028.gz gameid 28 play_start_ply 0 player1 white result blackwon moves e2e4 c7c6 g2g4 b8a6 b1a3 f7f6 b2b3 a6b8 g1h3 b7b5 f2f3 g8h6 h3g1 b8a6 d1e2 a8b8 e2d1 d7d5 d1e2 b8b7 c1b2 e7e5 e4d5 d8d5 f1g2 f8a3 b2a3 b5b4 a3b2 b7e7 e1d1 h6f7 d1c1 h7h6 g1h3 d5d7 h1g1 d7c7 g1e1 a6c5 e2c4 c7d6 h3f2 a7a5 c4e2 e8g8 f3f4 f8e8 f4f5 e5e4 e2e3 c5d7 h2h4 c6c5 g2e4 c8b7 d2d3 a5a4 e1d1 a4a3 b2a1 b7e4 f2e4 d6h2 d1d2 h2h4 e3g1 f7g5 d2h2 e7e4 d3e4 g5f3 h2h4 f3g1 h4h1 g1f3 h1f1 d7e5 a1e5 f3e5 c2c3 e8d8 c3b4 c5b4 f1g1 g8h7 g1g2 d8d4 g2d2 d4d2 c1d2 h7g8 d2e1 g8f7 g4g5 f6g5 e1f2 f7f6 f2g3 e5d3 g3g4 d3c1 g4h3 c1a2 h3g4 a2c3 g4f3 a3a2 f3e3 a2a1q e3d3 a1a8 d3c4 a8e4 c4c5 e4f5 c5b4 f5b5 b4c3 g5g4 b3b4 g4g3 c3d4 g3g2 d4c3 g2g1q c3d2 g1g3 d2c2 b5d3 c2b2 g3g2 b2a1 d3f1 from_fen rnbqkbnr/pppppppp/8/8/8/8/PPPPPPPP/1NBQKBNR w Kkq - 0 1\n",
            "tournamentstatus P1: +15 -16 =1 Win: 48.44% Elo: -10.86 LOS: 42.87% P1-W: +1 -14 =1 P1-B: +14 -2 =0 npm 659.957353 nodes 2383106 moves 3611\n",
            "gameready trainingfile /root/.cache/lc0/data-hryarflvruln/game_000030.gz gameid 30 play_start_ply 0 player1 white result blackwon moves e2e4 a7a5 f1e2 g8f6 e2f3 c7c5 b2b3 h7h5 g2g3 g7g6 d1e2 d7d6 a2a4 h5h4 e2d1 c8e6 g1e2 e6d7 c1a3 h8h7 d1c1 f8h6 f3g2 a8a6 h1f1 a6a8 c1b2 f6g8 e2f4 b7b6 b2c1 d7c8 f1g1 c8g4 e1f1 b8a6 c2c4 h6g7 c1e1 h4g3 h2g3 a6b4 b1c3 b4c2 e1c1 c2a3 c1a3 g7c3 d2c3 e7e5 f4d5 g4e6 d5e3 d8g5 a3c1 g8f6 f1e2 f6g4 e3c2 g5c1 g1c1 h7h2 e2f1 g4f6 f1g1 h2g2 g1g2 f6e4 f2f3 e4c3 g2f2 c3a2 c1e1 a2b4 e1h1 e8d7 c2e3 d7c6 h1h6 d6d5 c4d5 b4d5 e3c4 e5e4 f3e4 d5f6 h6h4 e6c4 b3c4 f6h5 g3g4 h5f6 f2e3 a8e8 g4g5 f6d7 h4h2 d7e5 h2c2 e8h8 e3f4 c6d6 c2d2 d6e6 d2d5 e5c4 f4g3 c4d6 g3f4 h8h4 f4g3 h4e4 d5d1 c5c4 g3f3 c4c3 d1g1 c3c2 g1c1 e4c4 f3e2 d6f5 e2d3 e6d5 d3d2 f5d4 d2d3 d4b3 c1c2 c4c2 d3c2 b3c5 c2c1 c5e4 c1d1 e4g5 d1e2 g5e6 e2e1 d5e5 e1f2 f7f5 f2f1 g6g5 f1f2 g5g4 f2e1 f5f4 e1f1 f4f3 f1f2 e5f4 f2f1 g4g3 f1g1 e6c5 g1f1 c5a4 f1g1 a4c3 g1f1 a5a4 f1g1 a4a3 g1f1 a3a2 f1e1 a2a1q e1d2 a1d1 d2c3 f3f2 c3c4 f2f1q c4b4 g3g2 b4c3 g2g1q c3b2 g1g2 b2a3 g2f3 a3a2 f3e2 a2a3 d1d3 a3b4 f1b1 b4a4 e2a2 from_fen rnbqkbnr/pppppppp/8/8/8/8/PPPPPPPP/1NBQKBNR w Kkq - 0 1\n",
            "tournamentstatus P1: +15 -17 =1 Win: 46.97% Elo: -21.08 LOS: 36.18% P1-W: +1 -15 =1 P1-B: +14 -2 =0 npm 660.003946 nodes 2508675 moves 3801\n",
            "gameready trainingfile /root/.cache/lc0/data-hryarflvruln/game_000034.gz gameid 34 play_start_ply 0 player1 white result blackwon moves e2e4 g8h6 d1f3 b7b6 g1h3 c8a6 c2c3 e7e6 f1e2 d7d6 d2d4 c7c6 h1f1 d8d7 e1d2 e6e5 c3c4 e5d4 d2d1 e8e7 c1d2 d7c8 a2a4 h6g8 d1c1 c8c7 d2b4 b8d7 f3g3 g7g6 b1a3 f8g7 e4e5 g7e5 f2f4 e5f6 f4f5 a8e8 h3g5 f6g5 g3g5 f7f6 g5g3 c6c5 b4d2 e7d8 f5g6 h7g6 f1e1 d7e5 a3b5 a6b5 a4b5 c7h7 h2h3 g6g5 g3a3 e8e7 b2b4 h7f5 a3g3 h8h4 b4c5 d6c5 e1f1 f5e6 c1b1 d8c8 f1e1 h4e4 b1a2 e4e2 e1e2 e6c4 g3b3 c4e2 b3g8 c8c7 g8a8 e2d2 a2b3 d2c3 b3a2 c3c2 a2a1 c2a4 a1b1 a4b5 b1a2 e5c6 a8a7 c6a7 a2a3 e7e3 a3a2 b5b3 a2a1 e3e1 from_fen rnbqkbnr/pppppppp/8/8/8/8/PPPPPPPP/1NBQKBNR w Kkq - 0 1\n",
            "tournamentstatus P1: +15 -18 =1 Win: 45.59% Elo: -30.74 LOS: 30.08% P1-W: +1 -16 =1 P1-B: +14 -2 =0 npm 659.995640 nodes 2573323 moves 3899\n",
            "gameready trainingfile /root/.cache/lc0/data-hryarflvruln/game_000038.gz gameid 38 play_start_ply 0 player1 white result blackwon moves h2h3 g7g6 g2g4 e7e5 b2b4 f7f6 b1a3 b8a6 c2c4 d7d6 f2f4 f6f5 d2d3 f8h6 e2e3 c7c5 d1d2 g8e7 a3c2 a6b4 c2b4 c5b4 c1b2 e8g8 g4g5 h6g7 h3h4 b7b5 h4h5 c8b7 h1h3 b5c4 d3c4 f8f7 h5h6 g7h8 g1f3 a8c8 f1e2 a7a5 e1f2 d8c7 h3h1 c7c5 h1d1 e5f4 b2d4 f4e3 d4e3 c5c7 e3f4 h8e5 d2e3 e5f4 e3f4 c7c5 f2f1 b7f3 e2f3 c5c4 f4c4 c8c4 d1d6 f5f4 f3g4 e7f5 d6d2 c4d4 d2e2 f5e3 f1f2 e3g4 f2f3 g4e3 e2f2 e3d5 f2g2 d5c3 g2b2 d4d3 f3f2 c3d1 f2e2 d1b2 e2f2 f7e7 f2g2 e7e2 g2f1 f4f3 f1g1 d3d1 from_fen rnbqkbnr/pppppppp/8/8/8/8/PPPPPPPP/1NBQKBNR w Kkq - 0 1\n",
            "tournamentstatus P1: +15 -19 =1 Win: 44.29% Elo: -39.88 LOS: 24.64% P1-W: +1 -17 =1 P1-B: +14 -2 =0 npm 659.949637 nodes 2633859 moves 3991\n",
            "gameready trainingfile /root/.cache/lc0/data-hryarflvruln/game_000039.gz gameid 39 play_start_ply 0 player1 black result blackwon moves e2e4 h7h5 b2b4 b8c6 h2h3 a7a6 c1b2 e7e5 f1c4 h8h6 g2g3 g8f6 b1c3 f8b4 c3d5 b4c5 g1f3 d7d6 c2c3 h6h8 e1f1 d8d7 d2d4 c5a7 c4d3 a8b8 f3g5 b7b5 f1g2 c8b7 d1f3 h8h6 h1e1 e5d4 f3d1 c6e5 d3b1 d4d3 b1d3 f6d5 e4d5 b7d5 g2h2 e8f8 b2c1 e5g4 d1g4 h5g4 g5h7 h6h7 d3h7 d7c6 c1g5 b8e8 h7e4 a7f2 g5e7 e8e7 c3c4 f2e1 c4d5 c6c3 e4d3 c3d3 h3g4 d3g3 h2h1 e7e2 g4g5 e2h2 from_fen rnbqkbnr/pppppppp/8/8/8/8/PPPPPPPP/1NBQKBNR w Kkq - 0 1\n",
            "tournamentstatus P1: +16 -19 =1 Win: 45.83% Elo: -29.02 LOS: 30.60% P1-W: +1 -17 =1 P1-B: +15 -2 =0 npm 659.921448 nodes 2679941 moves 4061\n",
            "gameready trainingfile /root/.cache/lc0/data-hryarflvruln/game_000037.gz gameid 37 play_start_ply 0 player1 black result blackwon moves b1c3 d7d5 e2e3 g8f6 d1f3 c8d7 d2d4 d7e6 g2g3 f6g8 f3f4 b8c6 f2f3 a7a5 b2b3 f7f5 f1g2 d8d6 a2a4 d6f4 g3f4 c6b8 e1f1 e8d8 c3d1 b7b5 a4b5 a5a4 f1f2 c7c6 b5c6 d8e8 g1h3 a4b3 d1c3 b8c6 h3g5 e6d7 c3d5 a8a7 d5b6 h7h6 b6d7 h6g5 d4d5 e8d7 d5c6 d7c6 f4g5 b3c2 f3f4 c6d7 g2f1 e7e6 f1b5 d7e7 f2e2 e7f7 c1b2 g8e7 e2d3 a7c7 h2h4 h8h5 b5a4 e7d5 g5g6 f7g8 a4e8 d5b4 d3e2 b4a2 e2f3 c2c1q b2c1 a2c1 e8f7 c7f7 g6f7 g8f7 h1c1 h5h4 c1c7 f8e7 e3e4 f5e4 f3e4 f7f6 c7d7 e6e5 d7c7 e5f4 c7c6 f6f7 c6c2 g7g5 c2d2 f7g6 d2d1 e7f6 d1c1 h4h3 c1c4 h3e3 e4d5 e3e5 d5d6 e5f5 d6e6 f5e5 e6d7 f4f3 c4c1 e5e2 c1f1 f3f2 f1b1 e2e1 b1b3 f2f1q b3b6 f1f5 d7c7 e1c1 c7b7 f5c8 b7a7 c1c7 b6b7 c7b7 a7a6 c8a8 from_fen rnbqkbnr/pppppppp/8/8/8/8/PPPPPPPP/1NBQKBNR w Kkq - 0 1\n",
            "tournamentstatus P1: +17 -19 =1 Win: 47.30% Elo: -18.80 LOS: 36.94% P1-W: +1 -17 =1 P1-B: +16 -2 =0 npm 659.895302 nodes 2766941 moves 4193\n",
            "gameready trainingfile /root/.cache/lc0/data-hryarflvruln/game_000040.gz gameid 40 play_start_ply 0 player1 white result blackwon moves e2e4 h7h5 b1a3 d7d6 f1d3 b7b5 g1f3 c8b7 h2h4 e7e5 d1e2 a7a6 b2b4 h8h7 e1f1 c7c6 c1b2 d8b6 f1g1 c6c5 e2e3 h7h6 a3b1 b8d7 b4c5 d7c5 b1c3 g8f6 f3g5 f6g4 e3e2 c5d3 c2d3 h6f6 c3d1 a8c8 g1f1 c8c2 f2f3 d6d5 e4d5 f8b4 g5e4 b7d5 b2c3 d5e4 c3b4 c2c1 f1e1 e4d3 b4a5 d3e2 a5b6 e2d1 d2d3 d1f3 e1d2 c1h1 g2f3 f6b6 f3g4 h5g4 d2e3 h1h4 e3e4 g4g3 e4f3 b6g6 f3g2 h4h2 g2f3 g3g2 f3e4 g2g1q e4e5 g1e3 e5d5 h2h5 from_fen rnbqkbnr/pppppppp/8/8/8/8/PPPPPPPP/1NBQKBNR w Kkq - 0 1\n",
            "tournamentstatus P1: +17 -20 =1 Win: 46.05% Elo: -27.49 LOS: 31.09% P1-W: +1 -18 =1 P1-B: +16 -2 =0 npm 659.882931 nodes 2818360 moves 4271\n",
            "gameready trainingfile /root/.cache/lc0/data-hryarflvruln/game_000036.gz gameid 36 play_start_ply 0 player1 white result whitewon moves b1c3 b8c6 g1h3 d7d5 h1g1 g8h6 b2b4 a8b8 g2g3 c8g4 c1b2 c6e5 c3a4 d8d6 b2a1 e8d8 f2f3 d8c8 f3g4 g7g5 d2d4 e5g4 a4c5 d6b6 e2e3 e7e6 d1b1 f8g7 b4b5 b8a8 a2a3 h8f8 a3a4 a8b8 h3f2 g4e3 e1d2 f8d8 d2e3 h6f5 e3d2 g7f6 d2d1 f5g7 b1a2 h7h6 c2c3 b8a8 f2d3 g5g4 a2b1 d8e8 b1c2 f6d4 c3d4 g7f5 c2a2 c8b8 f1g2 f5e7 a2f2 a7a5 g2h3 e7c8 f2e3 f7f5 d1c2 e8h8 g1b1 h8f8 e3c1 a8a6 b5a6 b6a6 b1b2 f8h8 c2b3 c7c6 d3e5 a6b5 b3a3 h8g8 e5f3 b8a7 c1b1 a7b8 b1f5 g8f8 f5d5 h6h5 f3e5 f8f6 b2c2 f6g6 c5d7 b8a8 d5b5 g6g5 c2c6 c8a7 c6c2 a7b5 a4b5 a5a4 b5b6 g5g8 c2c3 g8d8 c3c5 d8d7 c5c8 from_fen rnbqkbnr/pppppppp/8/8/8/8/PPPPPPPP/1NBQKBNR w Kkq - 0 1\n",
            "tournamentstatus P1: +18 -20 =1 Win: 47.44% Elo: -17.83 LOS: 37.28% P1-W: +2 -18 =1 P1-B: +16 -2 =0 npm 659.932223 nodes 2891823 moves 4382\n",
            "gameready trainingfile /root/.cache/lc0/data-hryarflvruln/game_000041.gz gameid 41 play_start_ply 0 player1 black result blackwon moves e2e4 b7b6 d1h5 d7d5 h5g5 h7h5 f1d3 c8b7 d3b5 b7c6 a2a4 a7a6 b5e2 d5e4 g5e3 e7e5 g1h3 d8d4 e3g3 h5h4 g3b3 c6d5 c2c4 d5c6 b1c3 b8d7 c3d5 c6d5 c4d5 d7c5 b3c2 d4a4 c2c3 a4d4 c3c2 g8f6 e1g1 f6d5 b2b3 d5b4 c2c3 d4c3 d2c3 b4d3 c1e3 c5b3 h3g5 f7f5 f1b1 b3c5 f2f3 f8e7 f3e4 e7g5 e3g5 f5e4 e2g4 e8g8 g5h4 a6a5 h4g5 a5a4 b1a1 a4a3 g5e3 a3a2 h2h4 g7g6 g4d1 g8g7 d1c2 a8a3 g2g3 b6b5 g1g2 c5b3 c2b3 a3b3 a1a2 b3b2 a2b2 d3b2 e3c5 f8f3 g2h3 b2d3 c5g1 d3f4 h3g4 f4e2 g1h2 f3c3 g4g5 e2g3 h4h5 g6h5 h2g3 c3g3 g5h5 e4e3 h5h4 g3g6 h4h5 e3e2 h5h4 e2e1q h4h5 e1h1 from_fen rnbqkbnr/pppppppp/8/8/8/8/PPPPPPPP/1NBQKBNR w Kkq - 0 1\n",
            "tournamentstatus P1: +19 -20 =1 Win: 48.75% Elo: -8.69 LOS: 43.64% P1-W: +2 -18 =1 P1-B: +17 -2 =0 npm 659.955679 nodes 2963201 moves 4490\n",
            "gameready trainingfile /root/.cache/lc0/data-hryarflvruln/game_000043.gz gameid 43 play_start_ply 0 player1 black result blackwon moves e2e4 g8f6 d1e2 d7d6 f2f4 a7a6 b1a3 d8d7 e1d1 h7h6 e2e1 a8a7 g1h3 f6g4 h1g1 d7c6 e1g3 e7e5 f1e2 h6h5 g3f3 c8d7 d2d4 f8e7 g1e1 e7f6 f3g3 c6a4 c1d2 a4d4 c2c3 d4e4 e2g4 d7g4 d1c1 e4f5 f4e5 f6e5 h3f4 e8g8 h2h3 g7g5 e1e5 f5e5 h3g4 g5f4 d2f4 e5g7 g3e3 b8c6 g4h5 g7g2 f4g3 g2h1 c1d2 h1h5 e3f2 h5g4 a3c2 f8e8 c2e3 e8e3 d2e3 a7a8 e3d2 a8e8 g3f4 c6e5 f2g3 g4g3 f4g3 f7f5 g3f4 g8f7 f4h2 e8e6 b2b4 e5g4 d2c2 e6e2 c2b3 e2h2 a2a3 f5f4 b3a4 f4f3 a4a5 f3f2 b4b5 f2f1q a3a4 a6b5 a4b5 h2a2 a5b4 f1b1 b4c4 a2a4 c4d5 b1b5 from_fen rnbqkbnr/pppppppp/8/8/8/8/PPPPPPPP/1NBQKBNR w Kkq - 0 1\n",
            "tournamentstatus P1: +20 -20 =1 Win: 50.00% Elo: -0.00 LOS: 50.00% P1-W: +2 -18 =1 P1-B: +18 -2 =0 npm 659.953813 nodes 3029188 moves 4590\n",
            "gameready trainingfile /root/.cache/lc0/data-hryarflvruln/game_000044.gz gameid 44 play_start_ply 0 player1 white result blackwon moves e2e4 a7a6 d1f3 d7d5 g1e2 d5e4 f3a3 b8c6 b1c3 e7e5 a3a4 h7h6 c3e4 g7g6 b2b4 c8f5 e2g3 f5d7 c2c3 f8e7 a4c2 d7e6 d2d3 f7f5 e4d2 e7g5 f1e2 g8f6 e1g1 e8g8 c1b2 g5h4 d2f3 f6d7 b2c1 f8e8 h2h3 e6d5 c1h6 d7f8 f1b1 f8h7 g3f1 d5f3 e2f3 h4g5 c2b3 g8h8 h6g5 h7g5 f3d5 d8d6 f1e3 a8d8 h3h4 g5e6 d5c4 b7b5 c4d5 e6f4 d5f7 e8f8 h4h5 g6h5 g2g3 d6f6 g3f4 f8f7 g1f1 e5f4 e3d5 f6h4 b1e1 f4f3 e1e8 d8e8 d5e3 h4h1 from_fen rnbqkbnr/pppppppp/8/8/8/8/PPPPPPPP/1NBQKBNR w Kkq - 0 1\n",
            "tournamentstatus P1: +20 -21 =1 Win: 48.81% Elo: -8.27 LOS: 43.79% P1-W: +2 -19 =1 P1-B: +18 -2 =0 npm 659.946872 nodes 3080632 moves 4668\n"
          ]
        }
      ]
    },
    {
      "cell_type": "code",
      "source": [
        "/root/.cache/lc0/data-pihtuobzissm"
      ],
      "metadata": {
        "id": "nAeg33w-J79E"
      },
      "execution_count": null,
      "outputs": []
    }
  ]
}